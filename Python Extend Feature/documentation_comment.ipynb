{
 "cells": [
  {
   "cell_type": "code",
   "execution_count": 6,
   "metadata": {},
   "outputs": [
    {
     "data": {
      "text/plain": [
       "'임의의 계산 수행'"
      ]
     },
     "execution_count": 6,
     "metadata": {},
     "output_type": "execute_result"
    }
   ],
   "source": [
    "def my_function():\n",
    "    \"\"\"임의의 계산 수행\"\"\"\n"
   ]
  },
  {
   "cell_type": "code",
   "execution_count": 7,
   "metadata": {},
   "outputs": [
    {
     "data": {
      "text/plain": [
       "'임의의 계산 수행'"
      ]
     },
     "execution_count": 7,
     "metadata": {},
     "output_type": "execute_result"
    }
   ],
   "source": [
    "my_function.__doc__\n"
   ]
  },
  {
   "cell_type": "code",
   "execution_count": 8,
   "metadata": {},
   "outputs": [
    {
     "name": "stdout",
     "output_type": "stream",
     "text": [
      "Help on function my_function in module __main__:\n",
      "\n",
      "my_function()\n",
      "    임의의 계산 수행\n",
      "\n"
     ]
    }
   ],
   "source": [
    "help(my_function)"
   ]
  },
  {
   "cell_type": "code",
   "execution_count": 12,
   "metadata": {},
   "outputs": [],
   "source": [
    "from dataclasses import dataclass\n",
    "\n",
    "@dataclass\n",
    "class Point:\n",
    "    lat: float\n",
    "    long: float\n",
    "\n",
    "def location(latitude: float, longitude: float) -> Point:\n",
    "    \"\"\"맵에서 좌표에 해당하는 객체를 탐색\"\"\""
   ]
  },
  {
   "cell_type": "code",
   "execution_count": 13,
   "metadata": {},
   "outputs": [],
   "source": [
    "Seconds = float\n",
    "def launch_task(delay: Seconds):\n",
    "    \"\"\"매개변수  정보 제공\"\"\"\n"
   ]
  },
  {
   "cell_type": "code",
   "execution_count": 14,
   "metadata": {},
   "outputs": [
    {
     "data": {
      "text/plain": [
       "{'latitude': float, 'longitude': float, 'return': __main__.Point}"
      ]
     },
     "execution_count": 14,
     "metadata": {},
     "output_type": "execute_result"
    }
   ],
   "source": [
    "location.__annotations__"
   ]
  },
  {
   "cell_type": "code",
   "execution_count": 16,
   "metadata": {},
   "outputs": [],
   "source": [
    "def process_clients(clients: list[tuple[int, str]]):\n",
    "    \"\"\"tuple 데이터 정의\"\"\"\n",
    "\n",
    "from typing import Tuple\n",
    "Client = Tuple[int, str]\n",
    "def process_clients2(clients: list[Client]):\n",
    "    \"\"\"tuple 데이터 더 확실한 정의\"\"\""
   ]
  },
  {
   "cell_type": "code",
   "execution_count": 17,
   "metadata": {},
   "outputs": [],
   "source": [
    "def data_from_response(response: dict) -> dict:\n",
    "    if response[\"status\"] != 200:\n",
    "        raise ValueError\n",
    "    return {\"data\": response[\"payload\"]}"
   ]
  },
  {
   "cell_type": "code",
   "execution_count": 19,
   "metadata": {},
   "outputs": [],
   "source": [
    "def data_from_response(response: dict) -> dict:\n",
    "    \"\"\"response의 HTTP status가 200이라면 response의 payload를 반환\n",
    "\n",
    "    - response 사전의 예제::\n",
    "    {\n",
    "        \"status\": 200, # <int>\n",
    "        \"timestamp\": \"....\" , # 현재 시간의 포맷 문자열\n",
    "        \"payload\" : { 1, 2, 3} # 반환하려는 사전 데이터\n",
    "    }\n",
    "\n",
    "    - 반환 사전 값의 예제::\n",
    "    {\"data\": { .. }}\n",
    "    - 발생 가능한 예외:\n",
    "    - HTTP status 가 200이 아닌 경우 ValueError 발생\n",
    "    \"\"\"\n",
    "    if response[\"status\"] != 200:\n",
    "        raise ValueError\n",
    "    return {\"data\": response[\"payload\"]}"
   ]
  },
  {
   "cell_type": "code",
   "execution_count": 20,
   "metadata": {},
   "outputs": [],
   "source": [
    "import logging\n",
    "from typing import Iterable\n",
    "\n",
    "logger = logging.getLogger(__name__)\n",
    "\n",
    "def broadcast_notification(\n",
    "        message: str,\n",
    "        relevant_user_emails: Iterable[str]\n",
    "):\n",
    "    for email in relevant_user_emails:\n",
    "        logger.info(f\"{message} 메시지를 {email}에게 전달\")\n"
   ]
  },
  {
   "cell_type": "code",
   "execution_count": 21,
   "metadata": {},
   "outputs": [],
   "source": [
    "broadcast_notification(\"Helloworld\", \"Helloworld@email.com\")"
   ]
  },
  {
   "cell_type": "code",
   "execution_count": null,
   "metadata": {},
   "outputs": [],
   "source": []
  }
 ],
 "metadata": {
  "kernelspec": {
   "display_name": "base",
   "language": "python",
   "name": "python3"
  },
  "language_info": {
   "codemirror_mode": {
    "name": "ipython",
    "version": 3
   },
   "file_extension": ".py",
   "mimetype": "text/x-python",
   "name": "python",
   "nbconvert_exporter": "python",
   "pygments_lexer": "ipython3",
   "version": "3.9.17"
  },
  "orig_nbformat": 4
 },
 "nbformat": 4,
 "nbformat_minor": 2
}
