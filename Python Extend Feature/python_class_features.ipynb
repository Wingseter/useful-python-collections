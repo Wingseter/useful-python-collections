{
 "cells": [
  {
   "cell_type": "code",
   "execution_count": 1,
   "metadata": {},
   "outputs": [
    {
     "data": {
      "text/plain": [
       "9"
      ]
     },
     "execution_count": 1,
     "metadata": {},
     "output_type": "execute_result"
    }
   ],
   "source": [
    "my_numbers = (4, 5, 3, 9)\n",
    "my_numbers[-1]"
   ]
  },
  {
   "cell_type": "code",
   "execution_count": 2,
   "metadata": {},
   "outputs": [
    {
     "data": {
      "text/plain": [
       "5"
      ]
     },
     "execution_count": 2,
     "metadata": {},
     "output_type": "execute_result"
    }
   ],
   "source": [
    "my_numbers[-3]"
   ]
  },
  {
   "cell_type": "code",
   "execution_count": 4,
   "metadata": {},
   "outputs": [
    {
     "data": {
      "text/plain": [
       "(3, 9)"
      ]
     },
     "execution_count": 4,
     "metadata": {},
     "output_type": "execute_result"
    }
   ],
   "source": [
    "my_numbers[2:4]"
   ]
  },
  {
   "cell_type": "code",
   "execution_count": 5,
   "metadata": {},
   "outputs": [
    {
     "data": {
      "text/plain": [
       "(4, 5, 3, 9)"
      ]
     },
     "execution_count": 5,
     "metadata": {},
     "output_type": "execute_result"
    }
   ],
   "source": [
    "my_numbers[::]"
   ]
  },
  {
   "cell_type": "code",
   "execution_count": 6,
   "metadata": {},
   "outputs": [
    {
     "data": {
      "text/plain": [
       "(4, 3)"
      ]
     },
     "execution_count": 6,
     "metadata": {},
     "output_type": "execute_result"
    }
   ],
   "source": [
    "my_numbers[0: 3: 2]"
   ]
  },
  {
   "cell_type": "code",
   "execution_count": 10,
   "metadata": {},
   "outputs": [],
   "source": [
    "from collections.abc import Sequence\n",
    "\n",
    "class Items:\n",
    "    def __init__(self, *values):\n",
    "        self._values = list(values)\n",
    "\n",
    "    def __len__(self):\n",
    "        return len(self._values)\n",
    "    \n",
    "    def __getitem__(self, item):\n",
    "        return self._values.__getitem__(item)"
   ]
  },
  {
   "cell_type": "code",
   "execution_count": 11,
   "metadata": {},
   "outputs": [
    {
     "name": "stdout",
     "output_type": "stream",
     "text": [
      "6\n"
     ]
    }
   ],
   "source": [
    "items = Items(1, 2, 3, 4, 5, 6)\n",
    "print(len(items))"
   ]
  },
  {
   "cell_type": "code",
   "execution_count": 12,
   "metadata": {},
   "outputs": [
    {
     "name": "stdout",
     "output_type": "stream",
     "text": [
      "2\n"
     ]
    }
   ],
   "source": [
    "print(items[1])"
   ]
  },
  {
   "cell_type": "code",
   "execution_count": 14,
   "metadata": {},
   "outputs": [],
   "source": [
    "import io\n",
    "\n",
    "filename: str = \"sample.txt\"\n",
    "fd = open(filename)\n",
    "\n",
    "def process_file(fd: io.TextIOWrapper):\n",
    "    \"\"\"파일 프로세싱\"\"\"\n",
    "    pass\n",
    "\n",
    "try:\n",
    "    process_file(fd)\n",
    "finally:\n",
    "    \n",
    "    fd.close()"
   ]
  },
  {
   "cell_type": "code",
   "execution_count": 23,
   "metadata": {},
   "outputs": [
    {
     "name": "stdout",
     "output_type": "stream",
     "text": [
      "Start!\n",
      "Something DB\n",
      "Stop!\n"
     ]
    }
   ],
   "source": [
    "def stop_database():\n",
    "    \"\"\"Stop database\"\"\"\n",
    "    print(\"Stop!\")\n",
    "\n",
    "def start_database():\n",
    "    \"\"\"Start database\"\"\"\n",
    "    print(\"Start!\")\n",
    "\n",
    "class DBHandler:\n",
    "    \"\"\"Database Handler\"\"\"\n",
    "    def __enter__(self):\n",
    "        \"\"\"Class End\"\"\"\n",
    "        start_database()\n",
    "        return self\n",
    "    def __exit__(self, _1, _2, _3):\n",
    "        stop_database()\n",
    "\n",
    "    def db_function(self):\n",
    "        print(\"Something DB\")\n",
    "\n",
    "with DBHandler() as back:\n",
    "    back.db_function()\n"
   ]
  },
  {
   "cell_type": "code",
   "execution_count": 27,
   "metadata": {},
   "outputs": [
    {
     "name": "stdout",
     "output_type": "stream",
     "text": [
      "Stop!\n",
      "I Love Python\n",
      "Start!\n"
     ]
    }
   ],
   "source": [
    "import contextlib\n",
    "\n",
    "@contextlib.contextmanager\n",
    "def db_hander():\n",
    "    try:\n",
    "        stop_database()\n",
    "        yield\n",
    "    finally:\n",
    "        start_database()\n",
    " \n",
    "def something():\n",
    "    print(\"I Love Python\")\n",
    "    \n",
    "with db_hander():\n",
    "    something()"
   ]
  },
  {
   "cell_type": "code",
   "execution_count": 31,
   "metadata": {},
   "outputs": [],
   "source": [
    "def run(command):\n",
    "    print(f\"Running command: {command}\")"
   ]
  },
  {
   "cell_type": "code",
   "execution_count": 34,
   "metadata": {},
   "outputs": [
    {
     "ename": "TypeError",
     "evalue": "dbhandler_decorator() takes no arguments",
     "output_type": "error",
     "traceback": [
      "\u001b[0;31m---------------------------------------------------------------------------\u001b[0m",
      "\u001b[0;31mTypeError\u001b[0m                                 Traceback (most recent call last)",
      "Cell \u001b[0;32mIn[34], line 24\u001b[0m\n\u001b[1;32m     20\u001b[0m     \u001b[39mdef\u001b[39;00m \u001b[39m__exit__\u001b[39m(\u001b[39mself\u001b[39m, exc_type, ex_value, ex_traceback):\n\u001b[1;32m     21\u001b[0m         start_database()\n\u001b[1;32m     23\u001b[0m \u001b[39m@dbhandler_decorator\u001b[39;49m\n\u001b[0;32m---> 24\u001b[0m \u001b[39mdef\u001b[39;49;00m \u001b[39moffline_backup\u001b[39;49m():\n\u001b[1;32m     25\u001b[0m     run(\u001b[39m\"\u001b[39;49m\u001b[39mtester mongolian\u001b[39;49m\u001b[39m\"\u001b[39;49m)\n\u001b[1;32m     27\u001b[0m offline_backup()\n",
      "\u001b[0;31mTypeError\u001b[0m: dbhandler_decorator() takes no arguments"
     ]
    }
   ],
   "source": [
    "import contextlib\n",
    "\n",
    "def stop_database():\n",
    "    print(\"Stopping database...\")\n",
    "    # 여기에 데이터베이스 중지 로직을 추가하세요\n",
    "\n",
    "def start_database():\n",
    "    print(\"Starting database...\")\n",
    "    # 여기에 데이터베이스 시작 로직을 추가하세요\n",
    "\n",
    "def run(command):\n",
    "    print(f\"Running command: {command}\")\n",
    "    # 여기에 command를 실행하는 로직을 추가하세요\n",
    "\n",
    "class dbhandler_decorator(contextlib.ContextDecorator):\n",
    "    def __enter__(self):\n",
    "        stop_database()\n",
    "        return self\n",
    "    \n",
    "    def __exit__(self, exc_type, ex_value, ex_traceback):\n",
    "        start_database()\n",
    "\n",
    "@dbhandler_decorator\n",
    "def offline_backup():\n",
    "    run(\"tester mongolian\")\n",
    "\n",
    "offline_backup()\n"
   ]
  },
  {
   "cell_type": "code",
   "execution_count": 36,
   "metadata": {},
   "outputs": [],
   "source": [
    "numbers = []\n",
    "def run_calculation(i: int) -> int:\n",
    "    \"\"\" return number directly \"\"\"\n",
    "    return i\n",
    "for i in range(10):\n",
    "    numbers.append(run_calculation(i))\n"
   ]
  },
  {
   "cell_type": "code",
   "execution_count": null,
   "metadata": {},
   "outputs": [],
   "source": [
    "from typing import Iterable, Set\n",
    "import re\n",
    "\n",
    "ARN_REGEX = \"Hello\"\n",
    "\n",
    "def collect_account_ids_from_arns(arns: Iterable[str]) -> Set[str]:\n",
    "    \"\"\" discription \"\"\"\n",
    "    for arn in arns:\n",
    "        matched = re.match(ARN_REGEX, arn)\n"
   ]
  },
  {
   "cell_type": "code",
   "execution_count": null,
   "metadata": {},
   "outputs": [],
   "source": []
  }
 ],
 "metadata": {
  "kernelspec": {
   "display_name": "playground",
   "language": "python",
   "name": "python3"
  },
  "language_info": {
   "codemirror_mode": {
    "name": "ipython",
    "version": 3
   },
   "file_extension": ".py",
   "mimetype": "text/x-python",
   "name": "python",
   "nbconvert_exporter": "python",
   "pygments_lexer": "ipython3",
   "version": "3.9.17"
  },
  "orig_nbformat": 4
 },
 "nbformat": 4,
 "nbformat_minor": 2
}
