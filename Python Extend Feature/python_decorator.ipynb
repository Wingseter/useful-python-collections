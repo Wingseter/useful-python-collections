{
 "cells": [
  {
   "cell_type": "code",
   "execution_count": 1,
   "metadata": {},
   "outputs": [
    {
     "ename": "TypeError",
     "evalue": "dbhandler_decorator1() takes no arguments",
     "output_type": "error",
     "traceback": [
      "\u001b[0;31m---------------------------------------------------------------------------\u001b[0m",
      "\u001b[0;31mTypeError\u001b[0m                                 Traceback (most recent call last)",
      "Cell \u001b[0;32mIn[1], line 24\u001b[0m\n\u001b[1;32m     20\u001b[0m     \u001b[39mdef\u001b[39;00m \u001b[39m__exit__\u001b[39m(\u001b[39mself\u001b[39m, exc_type, ex_value, ex_traceback):\n\u001b[1;32m     21\u001b[0m         start_database()\n\u001b[1;32m     23\u001b[0m \u001b[39m@dbhandler_decorator1\u001b[39;49m\n\u001b[0;32m---> 24\u001b[0m \u001b[39mdef\u001b[39;49;00m \u001b[39moffline_backup\u001b[39;49m():\n\u001b[1;32m     25\u001b[0m     run(\u001b[39m\"\u001b[39;49m\u001b[39mtester mongolian\u001b[39;49m\u001b[39m\"\u001b[39;49m)\n\u001b[1;32m     27\u001b[0m offline_backup()\n",
      "\u001b[0;31mTypeError\u001b[0m: dbhandler_decorator1() takes no arguments"
     ]
    }
   ],
   "source": [
    "import contextlib\n",
    "\n",
    "def stop_database():\n",
    "    print(\"Stopping database...\")\n",
    "    # 여기에 데이터베이스 중지 로직을 추가하세요\n",
    "\n",
    "def start_database():\n",
    "    print(\"Starting database...\")\n",
    "    # 여기에 데이터베이스 시작 로직을 추가하세요\n",
    "\n",
    "def run(command):\n",
    "    print(f\"Running command: {command}\")\n",
    "    # 여기에 command를 실행하는 로직을 추가하세요\n",
    "\n",
    "class dbhandler_decorator1(contextlib.ContextDecorator):\n",
    "    def __enter__(self):\n",
    "        stop_database()\n",
    "        return self\n",
    "    \n",
    "    def __exit__(self, exc_type, ex_value, ex_traceback):\n",
    "        start_database()\n",
    "\n",
    "@dbhandler_decorator1\n",
    "def offline_backup():\n",
    "    run(\"tester mongolian\")\n",
    "\n",
    "offline_backup()\n"
   ]
  },
  {
   "cell_type": "code",
   "execution_count": null,
   "metadata": {},
   "outputs": [],
   "source": []
  }
 ],
 "metadata": {
  "kernelspec": {
   "display_name": "playground",
   "language": "python",
   "name": "python3"
  },
  "language_info": {
   "codemirror_mode": {
    "name": "ipython",
    "version": 3
   },
   "file_extension": ".py",
   "mimetype": "text/x-python",
   "name": "python",
   "nbconvert_exporter": "python",
   "pygments_lexer": "ipython3",
   "version": "3.9.17"
  },
  "orig_nbformat": 4
 },
 "nbformat": 4,
 "nbformat_minor": 2
}
