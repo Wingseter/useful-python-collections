{
 "cells": [
  {
   "cell_type": "code",
   "execution_count": null,
   "metadata": {},
   "outputs": [],
   "source": [
    "from google.colab import drive\n",
    "drive.mount('/content/drive')\n",
    "\n",
    "!pip install colab_ssh --upgrade\n",
    "\n",
    "from colab_ssh import launch_ssh_cloudflared,\n",
    "init_git_cloudflared\n",
    "launch_ssh_cloudflared(password=\"{PASSWORD}\")"
   ]
  }
 ],
 "metadata": {
  "language_info": {
   "name": "python"
  }
 },
 "nbformat": 4,
 "nbformat_minor": 2
}
