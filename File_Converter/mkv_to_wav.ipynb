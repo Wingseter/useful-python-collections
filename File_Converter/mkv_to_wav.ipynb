{
 "cells": [
  {
   "cell_type": "code",
   "execution_count": 1,
   "metadata": {},
   "outputs": [
    {
     "data": {
      "application/vnd.jupyter.widget-view+json": {
       "model_id": "4d9afe05960548289f621b2b3dc384f2",
       "version_major": 2,
       "version_minor": 0
      },
      "text/plain": [
       "Button(description='Select MKV File and Extract Audio', style=ButtonStyle())"
      ]
     },
     "metadata": {},
     "output_type": "display_data"
    }
   ],
   "source": [
    "import ipywidgets as widgets\n",
    "from IPython.display import display\n",
    "from tkinter import Tk, filedialog\n",
    "from moviepy.editor import VideoFileClip\n",
    "from pydub import AudioSegment\n",
    "from pydub.playback import play\n",
    "import numpy as np\n",
    "from pathlib import Path\n",
    "import tempfile\n",
    "import os\n",
    "import subprocess\n",
    "\n",
    "def change_audio_speed_and_pitch_ffmpeg(input_path, output_path, speed=1.0, pitch_semitones=0):\n",
    "    # ffmpeg 명령어를 사용하여 오디오 속도 및 피치 변경\n",
    "    command = [\n",
    "        'ffmpeg',\n",
    "        '-i', input_path,\n",
    "        output_path\n",
    "    ]\n",
    "    subprocess.run(command, check=True)\n",
    "\n",
    "def select_file_and_extract_audio():\n",
    "    # tkinter 설정\n",
    "    root = Tk()\n",
    "    root.withdraw()  # Tkinter 창 숨기기\n",
    "    \n",
    "    # 파일 선택 다이얼로그 열기\n",
    "    file_path = filedialog.askopenfilename(filetypes=[(\"MKV files\", \"*.mkv\")])\n",
    "    \n",
    "    if not file_path:\n",
    "        print(\"No file selected\")\n",
    "        return\n",
    "    \n",
    "    # 입력받은 경로를 Path 객체로 변환\n",
    "    input_path = Path(file_path)\n",
    "    \n",
    "    # MKV 파일이 존재하는지 확인\n",
    "    if not input_path.is_file():\n",
    "        raise FileNotFoundError(f\"The file {file_path} does not exist.\")\n",
    "    \n",
    "    # 출력 경로 설정 (입력 파일과 동일한 디렉토리에 .wav 확장자로 저장)\n",
    "    output_path = input_path.with_suffix('.wav')\n",
    "    \n",
    "    # MKV 파일에서 오디오 추출 (임시 파일에 저장)\n",
    "    video = VideoFileClip(str(input_path))\n",
    "    temp_audio_path = tempfile.mktemp(suffix='.wav')\n",
    "    video.audio.write_audiofile(temp_audio_path)\n",
    "    \n",
    "    # ffmpeg를 사용하여 오디오 속도 변경 및 피치 조정\n",
    "    change_audio_speed_and_pitch_ffmpeg(temp_audio_path, output_path, speed=0.5, pitch_semitones=0)  # 예시로 한 옥타브 올림\n",
    "    \n",
    "    # 임시 파일 삭제\n",
    "    os.remove(temp_audio_path)\n",
    "    \n",
    "    print(f\"Audio has been successfully extracted and saved to {output_path}\")\n",
    "\n",
    "# 버튼 생성\n",
    "button = widgets.Button(description=\"Select MKV File and Extract Audio\")\n",
    "button.on_click(lambda x: select_file_and_extract_audio())\n",
    "\n",
    "# 버튼 표시\n",
    "display(button)"
   ]
  }
 ],
 "metadata": {
  "kernelspec": {
   "display_name": "Python 3",
   "language": "python",
   "name": "python3"
  },
  "language_info": {
   "codemirror_mode": {
    "name": "ipython",
    "version": 3
   },
   "file_extension": ".py",
   "mimetype": "text/x-python",
   "name": "python",
   "nbconvert_exporter": "python",
   "pygments_lexer": "ipython3",
   "version": "3.8.19"
  }
 },
 "nbformat": 4,
 "nbformat_minor": 2
}
