{
 "cells": [
  {
   "cell_type": "code",
   "execution_count": 1,
   "metadata": {},
   "outputs": [
    {
     "data": {
      "application/vnd.jupyter.widget-view+json": {
       "model_id": "c584284f016448349c85493f8fd7b362",
       "version_major": 2,
       "version_minor": 0
      },
      "text/plain": [
       "Button(description='Select MKV File and Extract Audio', style=ButtonStyle())"
      ]
     },
     "metadata": {},
     "output_type": "display_data"
    },
    {
     "name": "stdout",
     "output_type": "stream",
     "text": [
      "MoviePy - Writing audio in /var/folders/8b/dlxfglnx1dv0qn4c8npcs8gc0000gn/T/tmpj9xxtrrp.wav\n"
     ]
    },
    {
     "name": "stderr",
     "output_type": "stream",
     "text": [
      "                                                                      \r"
     ]
    },
    {
     "name": "stdout",
     "output_type": "stream",
     "text": [
      "MoviePy - Done.\n",
      "Audio has been successfully extracted and saved to /Users/kwon/Movies/image_enhancement_3.wav\n",
      "MoviePy - Writing audio in /var/folders/8b/dlxfglnx1dv0qn4c8npcs8gc0000gn/T/tmp_rkdckl3.wav\n"
     ]
    },
    {
     "name": "stderr",
     "output_type": "stream",
     "text": [
      "                                                                        \r"
     ]
    },
    {
     "name": "stdout",
     "output_type": "stream",
     "text": [
      "MoviePy - Done.\n",
      "Audio has been successfully extracted and saved to /Users/kwon/Movies/image_enhancement_3.wav\n",
      "MoviePy - Writing audio in /var/folders/8b/dlxfglnx1dv0qn4c8npcs8gc0000gn/T/tmpbskbtjd6.wav\n"
     ]
    },
    {
     "name": "stderr",
     "output_type": "stream",
     "text": [
      "                                                                      \r"
     ]
    },
    {
     "name": "stdout",
     "output_type": "stream",
     "text": [
      "MoviePy - Done.\n",
      "Audio has been successfully extracted and saved to /Users/kwon/Movies/2024-07-19 14-14-18.wav\n",
      "MoviePy - Writing audio in /var/folders/8b/dlxfglnx1dv0qn4c8npcs8gc0000gn/T/tmp5k9p66o9.wav\n"
     ]
    },
    {
     "name": "stderr",
     "output_type": "stream",
     "text": [
      "                                                                      \r"
     ]
    },
    {
     "name": "stdout",
     "output_type": "stream",
     "text": [
      "MoviePy - Done.\n",
      "Audio has been successfully extracted and saved to /Users/kwon/Movies/supervised_learning_1.wav\n",
      "MoviePy - Writing audio in /var/folders/8b/dlxfglnx1dv0qn4c8npcs8gc0000gn/T/tmp07y639_9.wav\n"
     ]
    },
    {
     "name": "stderr",
     "output_type": "stream",
     "text": [
      "                                                                        \r"
     ]
    },
    {
     "name": "stdout",
     "output_type": "stream",
     "text": [
      "MoviePy - Done.\n",
      "Audio has been successfully extracted and saved to /Users/kwon/Movies/supervised_leaning_2.wav\n"
     ]
    }
   ],
   "source": [
    "import ipywidgets as widgets\n",
    "from IPython.display import display\n",
    "from tkinter import Tk, filedialog\n",
    "from moviepy.editor import VideoFileClip\n",
    "import librosa\n",
    "import soundfile as sf\n",
    "from pathlib import Path\n",
    "import tempfile\n",
    "import os\n",
    "\n",
    "def change_audio_speed_librosa(input_path, output_path, speed=1.0):\n",
    "    # librosa를 사용하여 오디오 속도 변경\n",
    "    y, sr = librosa.load(input_path, sr=None)  # sr=None to preserve original sample rate\n",
    "    y_fast = librosa.effects.time_stretch(y, rate=speed)\n",
    "    sf.write(output_path, y_fast, sr)\n",
    "\n",
    "def select_file_and_extract_audio():\n",
    "    # tkinter 설정\n",
    "    root = Tk()\n",
    "    root.withdraw()  # Tkinter 창 숨기기\n",
    "    \n",
    "    # 파일 선택 다이얼로그 열기\n",
    "    file_path = filedialog.askopenfilename(filetypes=[(\"MKV files\", \"*.mkv\")])\n",
    "    \n",
    "    if not file_path:\n",
    "        print(\"No file selected\")\n",
    "        return\n",
    "    \n",
    "    # 입력받은 경로를 Path 객체로 변환\n",
    "    input_path = Path(file_path)\n",
    "    \n",
    "    # MKV 파일이 존재하는지 확인\n",
    "    if not input_path.is_file():\n",
    "        raise FileNotFoundError(f\"The file {file_path} does not exist.\")\n",
    "    \n",
    "    # 출력 경로 설정 (입력 파일과 동일한 디렉토리에 .wav 확장자로 저장)\n",
    "    output_path = input_path.with_suffix('.wav')\n",
    "    \n",
    "    # MKV 파일에서 오디오 추출 (임시 파일에 저장)\n",
    "    with tempfile.NamedTemporaryFile(suffix='.wav', delete=False) as temp_audio_file:\n",
    "        temp_audio_path = temp_audio_file.name\n",
    "        video = VideoFileClip(str(input_path))\n",
    "        video.audio.write_audiofile(temp_audio_path)\n",
    "    \n",
    "    # librosa를 사용하여 오디오 속도 변경 (0.8배속)\n",
    "    change_audio_speed_librosa(temp_audio_path, output_path, speed=0.8)\n",
    "    \n",
    "    # 임시 파일 삭제\n",
    "    os.remove(temp_audio_path)\n",
    "    \n",
    "    print(f\"Audio has been successfully extracted and saved to {output_path}\")\n",
    "\n",
    "# 버튼 생성\n",
    "button = widgets.Button(description=\"Select MKV File and Extract Audio\")\n",
    "button.on_click(lambda x: select_file_and_extract_audio())\n",
    "\n",
    "# 버튼 표시\n",
    "display(button)"
   ]
  }
 ],
 "metadata": {
  "kernelspec": {
   "display_name": "Python 3",
   "language": "python",
   "name": "python3"
  },
  "language_info": {
   "codemirror_mode": {
    "name": "ipython",
    "version": 3
   },
   "file_extension": ".py",
   "mimetype": "text/x-python",
   "name": "python",
   "nbconvert_exporter": "python",
   "pygments_lexer": "ipython3",
   "version": "3.8.19"
  }
 },
 "nbformat": 4,
 "nbformat_minor": 2
}
