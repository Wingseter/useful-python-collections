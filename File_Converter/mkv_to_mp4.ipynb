{
 "cells": [
  {
   "cell_type": "code",
   "execution_count": 1,
   "metadata": {},
   "outputs": [
    {
     "data": {
      "application/vnd.jupyter.widget-view+json": {
       "model_id": "7dca002c6f714ef481bf372aef6e7277",
       "version_major": 2,
       "version_minor": 0
      },
      "text/plain": [
       "Button(description='Select MKV File and Convert to MP4 with 0.5x Speed', style=ButtonStyle())"
      ]
     },
     "metadata": {},
     "output_type": "display_data"
    },
    {
     "name": "stderr",
     "output_type": "stream",
     "text": [
      "ffmpeg version 7.0.1 Copyright (c) 2000-2024 the FFmpeg developers\n",
      "  built with clang version 16.0.6\n",
      "  configuration: --prefix=/Users/runner/miniforge3/conda-bld/ffmpeg_1716729565458/_h_env_placehold_placehold_placehold_placehold_placehold_placehold_placehold_placehold_placehold_placehold_placehold_placehold_placehold_placehold_placehold_placehold_placehold_placehold_placehold_pl --cc=arm64-apple-darwin20.0.0-clang --cxx=arm64-apple-darwin20.0.0-clang++ --nm=arm64-apple-darwin20.0.0-nm --ar=arm64-apple-darwin20.0.0-ar --disable-doc --disable-openssl --enable-demuxer=dash --enable-hardcoded-tables --enable-libfreetype --enable-libharfbuzz --enable-libfontconfig --enable-libopenh264 --enable-libdav1d --enable-cross-compile --arch=arm64 --target-os=darwin --cross-prefix=arm64-apple-darwin20.0.0- --host-cc=/Users/runner/miniforge3/conda-bld/ffmpeg_1716729565458/_build_env/bin/x86_64-apple-darwin13.4.0-clang --enable-neon --enable-gnutls --enable-libmp3lame --enable-libvpx --enable-libass --enable-pthreads --enable-libopenvino --enable-gpl --enable-libx264 --enable-libx265 --enable-libaom --enable-libsvtav1 --enable-libxml2 --enable-pic --enable-shared --disable-static --enable-version3 --enable-zlib --enable-libopus --pkg-config=/Users/runner/miniforge3/conda-bld/ffmpeg_1716729565458/_build_env/bin/pkg-config\n",
      "  libavutil      59.  8.100 / 59.  8.100\n",
      "  libavcodec     61.  3.100 / 61.  3.100\n",
      "  libavformat    61.  1.100 / 61.  1.100\n",
      "  libavdevice    61.  1.100 / 61.  1.100\n",
      "  libavfilter    10.  1.100 / 10.  1.100\n",
      "  libswscale      8.  1.100 /  8.  1.100\n",
      "  libswresample   5.  1.100 /  5.  1.100\n",
      "  libpostproc    58.  1.100 / 58.  1.100\n",
      "Input #0, matroska,webm, from '/Volumes/external/usr/obsrecord/2024-07-18 01-51-37.mkv':\n",
      "  Metadata:\n",
      "    ENCODER         : Lavf61.1.100\n",
      "  Duration: 00:02:38.24, start: 0.000000, bitrate: 503 kb/s\n",
      "  Stream #0:0: Video: h264 (High), yuv420p(tv, bt709, progressive), 1920x1080, 60 fps, 60 tbr, 1k tbn\n",
      "      Metadata:\n",
      "        DURATION        : 00:02:38.235000000\n",
      "  Stream #0:1: Audio: aac (LC), 48000 Hz, stereo, fltp\n",
      "      Metadata:\n",
      "        title           : simple_aac_recording0\n",
      "        DURATION        : 00:02:38.186000000\n",
      "File '/Volumes/external/usr/obsrecord/2024-07-18 01-51-37.mp4' already exists. Overwrite? [y/N] "
     ]
    }
   ],
   "source": [
    "import ipywidgets as widgets\n",
    "from IPython.display import display\n",
    "from tkinter import Tk, filedialog\n",
    "import subprocess\n",
    "from pathlib import Path\n",
    "import os\n",
    "\n",
    "def convert_mkv_to_mp4_with_speed(input_path, output_path, speed=0.5):\n",
    "    # FFmpeg 명령 생성\n",
    "    command = [\n",
    "        'ffmpeg',\n",
    "        '-i', input_path,           # 입력 파일\n",
    "        '-filter:v', f\"setpts={1/speed}*PTS\", # 비디오 속도 변경\n",
    "        '-filter:a', f\"atempo={speed}\",       # 오디오 속도 변경\n",
    "        output_path                # 출력 파일\n",
    "    ]\n",
    "    \n",
    "    try:\n",
    "        # FFmpeg 명령 실행\n",
    "        subprocess.run(command, check=True)\n",
    "        print(f\"Successfully converted {input_path} to {output_path} with {speed}x speed\")\n",
    "    except subprocess.CalledProcessError as e:\n",
    "        print(f\"Error occurred: {e}\")\n",
    "\n",
    "def select_file_and_convert():\n",
    "    # tkinter 설정\n",
    "    root = Tk()\n",
    "    root.withdraw()  # Tkinter 창 숨기기\n",
    "    \n",
    "    # 파일 선택 다이얼로그 열기\n",
    "    file_path = filedialog.askopenfilename(filetypes=[(\"MKV files\", \"*.mkv\")])\n",
    "    \n",
    "    if not file_path:\n",
    "        print(\"No file selected\")\n",
    "        return\n",
    "    \n",
    "    # 입력받은 경로를 Path 객체로 변환\n",
    "    input_path = Path(file_path)\n",
    "    \n",
    "    # MKV 파일이 존재하는지 확인\n",
    "    if not input_path.is_file():\n",
    "        raise FileNotFoundError(f\"The file {file_path} does not exist.\")\n",
    "    \n",
    "    # 출력 경로 설정 (입력 파일과 동일한 디렉토리에 .mp4 확장자로 저장)\n",
    "    output_path = input_path.with_suffix('.mp4')\n",
    "    \n",
    "    # MKV 파일을 MP4 파일로 변환 및 0.5배속 설정\n",
    "    convert_mkv_to_mp4_with_speed(str(input_path), str(output_path), speed=0.5)\n",
    "\n",
    "# 버튼 생성\n",
    "button = widgets.Button(description=\"Select MKV File and Convert to MP4 with 0.5x Speed\")\n",
    "button.on_click(lambda x: select_file_and_convert())\n",
    "\n",
    "# 버튼 표시\n",
    "display(button)"
   ]
  }
 ],
 "metadata": {
  "kernelspec": {
   "display_name": "Python 3",
   "language": "python",
   "name": "python3"
  },
  "language_info": {
   "codemirror_mode": {
    "name": "ipython",
    "version": 3
   },
   "file_extension": ".py",
   "mimetype": "text/x-python",
   "name": "python",
   "nbconvert_exporter": "python",
   "pygments_lexer": "ipython3",
   "version": "3.8.19"
  }
 },
 "nbformat": 4,
 "nbformat_minor": 2
}
